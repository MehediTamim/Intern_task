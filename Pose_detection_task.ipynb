{
 "cells": [
  {
   "cell_type": "markdown",
   "metadata": {},
   "source": [
    "Task 1"
   ]
  },
  {
   "cell_type": "code",
   "execution_count": 1,
   "metadata": {},
   "outputs": [],
   "source": [
    "# !pip install -q imageio\n",
    "# !pip install -q opencv-python\n",
    "# !pip install -q git+https://github.com/tensorflow/docs"
   ]
  },
  {
   "cell_type": "code",
   "execution_count": 2,
   "metadata": {},
   "outputs": [],
   "source": [
    "import tensorflow as tf\n",
    "import tensorflow_hub as hub\n",
    "#from tensorflow_docs.vis import embed\n",
    "import numpy as np\n",
    "import cv2\n",
    "import pandas as pd\n",
    "\n",
    "from matplotlib.collections import LineCollection\n",
    "import matplotlib.patches as patches\n",
    "import matplotlib.pyplot as plt\n",
    "\n",
    "import imageio\n",
    "from IPython.display import HTML, display"
   ]
  },
  {
   "cell_type": "code",
   "execution_count": 2,
   "metadata": {},
   "outputs": [],
   "source": [
    "# Dictionary to map joints of body part\n",
    "KEYPOINT_DICT = {\n",
    "    'nose':0,\n",
    "    'left_eye':1,\n",
    "    'right_eye':2,\n",
    "    'left_ear':3,\n",
    "    'right_ear':4,\n",
    "    'left_shoulder':5,\n",
    "    'right_shoulder':6,\n",
    "    'left_elbow':7,\n",
    "    'right_elbow':8,\n",
    "    'left_wrist':9,\n",
    "    'right_wrist':10,\n",
    "    'left_hip':11,\n",
    "    'right_hip':12,\n",
    "    'left_knee':13,\n",
    "    'right_knee':14,\n",
    "    'left_ankle':15,\n",
    "    'right_ankle':16\n",
    "}\n",
    "# map bones to matplotlib color name\n",
    "KEYPOINT_EDGE_INDS_TO_COLOR = {\n",
    "    (0,1): 'm',\n",
    "    (0,2): 'c',\n",
    "    (1,3): 'm',\n",
    "    (2,4): 'c',\n",
    "    (0,5): 'm',\n",
    "    (0,6): 'c',\n",
    "    (5,7): 'm',\n",
    "    (7,9): 'm',\n",
    "    (6,8): 'c',\n",
    "    (8,10): 'c',\n",
    "    (5,6): 'y',\n",
    "    (5,11): 'm',\n",
    "    (6,12): 'c',\n",
    "    (11,12): 'y',\n",
    "    (11,13): 'm',\n",
    "    (13,15): 'm',\n",
    "    (12,14): 'c',\n",
    "    (14,16): 'c'\n",
    "}\n",
    "\n",
    "def _keypoints_and_edges_for_display(keypoints_with_score,height,\n",
    "                                     width,keypoint_threshold=0.11):\n",
    "  \"\"\"Returns high confidence keypoints and edges\"\"\"\n",
    "  keypoints_all = []\n",
    "  keypoint_edges_all = []\n",
    "  edge_colors = []\n",
    "  num_instances,_,_,_ = keypoints_with_score.shape\n",
    "  for id in range(num_instances):\n",
    "    kpts_x = keypoints_with_score[0,id,:,1]\n",
    "    kpts_y = keypoints_with_score[0,id,:,0]\n",
    "    kpts_scores = keypoints_with_score[0,id,:,2]\n",
    "    kpts_abs_xy = np.stack(\n",
    "        [width*np.array(kpts_x),height*np.array(kpts_y)],axis=-1)\n",
    "    kpts_above_thrs_abs = kpts_abs_xy[kpts_scores > keypoint_threshold,: ]\n",
    "    keypoints_all.append(kpts_above_thrs_abs)\n",
    "\n",
    "    for edge_pair,color in KEYPOINT_EDGE_INDS_TO_COLOR.items():\n",
    "      if (kpts_scores[edge_pair[0]] > keypoint_threshold and \n",
    "          kpts_scores[edge_pair[1]] > keypoint_threshold):\n",
    "        x_start = kpts_abs_xy[edge_pair[0],0]\n",
    "        y_start = kpts_abs_xy[edge_pair[0],1]\n",
    "        x_end = kpts_abs_xy[edge_pair[1],0]\n",
    "        y_end = kpts_abs_xy[edge_pair[1],1]\n",
    "        lien_seg = np.array([[x_start,y_start],[x_end,y_end]])\n",
    "        keypoint_edges_all.append(lien_seg)\n",
    "        edge_colors.append(color)\n",
    "  if keypoints_all:\n",
    "    keypoints_xy = np.concatenate(keypoints_all,axis=0)\n",
    "  else:\n",
    "    keypoints_xy = np.zeros((0,17,2))\n",
    "\n",
    "  if keypoint_edges_all:\n",
    "    edges_xy = np.stack(keypoint_edges_all,axis=0)\n",
    "  else:\n",
    "    edges_xy = np.zeros((0,2,2))\n",
    "  return keypoints_xy,edges_xy,edge_colors\n",
    "\n",
    "def draw_prediction_on_image(\n",
    "    image, keypoints_with_scores, crop_region=None, close_figure=False,\n",
    "    output_image_height=None):\n",
    "  \"\"\"Draws the keypoint predictions on image\"\"\"\n",
    "  height, width, channel = image.shape\n",
    "  aspect_ratio = float(width) / height\n",
    "  fig, ax = plt.subplots(figsize=(12 * aspect_ratio, 12))\n",
    "  # To remove the huge white borders\n",
    "  fig.tight_layout(pad=0)\n",
    "  ax.margins(0)\n",
    "  ax.set_yticklabels([])\n",
    "  ax.set_xticklabels([])\n",
    "  plt.axis('off')\n",
    "\n",
    "  im = ax.imshow(image)\n",
    "  line_segments = LineCollection([], linewidths=(4), linestyle='solid')\n",
    "  ax.add_collection(line_segments)\n",
    "  # Turn off tick labels\n",
    "  scat = ax.scatter([], [], s=60, color='#FF1493', zorder=3)\n",
    "\n",
    "  (keypoint_locs, keypoint_edges,\n",
    "   edge_colors) = _keypoints_and_edges_for_display(\n",
    "       keypoints_with_scores, height, width)\n",
    "\n",
    "  line_segments.set_segments(keypoint_edges)\n",
    "  line_segments.set_color(edge_colors)\n",
    "  if keypoint_edges.shape[0]:\n",
    "    line_segments.set_segments(keypoint_edges)\n",
    "    line_segments.set_color(edge_colors)\n",
    "  if keypoint_locs.shape[0]:\n",
    "    scat.set_offsets(keypoint_locs)\n",
    "\n",
    "  if crop_region is not None:\n",
    "    xmin = max(crop_region['x_min'] * width, 0.0)\n",
    "    ymin = max(crop_region['y_min'] * height, 0.0)\n",
    "    rec_width = min(crop_region['x_max'], 0.99) * width - xmin\n",
    "    rec_height = min(crop_region['y_max'], 0.99) * height - ymin\n",
    "    rect = patches.Rectangle(\n",
    "        (xmin,ymin),rec_width,rec_height,\n",
    "        linewidth=1,edgecolor='b',facecolor='none')\n",
    "    ax.add_patch(rect)\n",
    "\n",
    "  fig.canvas.draw()\n",
    "  image_from_plot = np.frombuffer(fig.canvas.tostring_rgb(), dtype=np.uint8)\n",
    "  image_from_plot = image_from_plot.reshape(\n",
    "      fig.canvas.get_width_height()[::-1] + (3,))\n",
    "  plt.close(fig)\n",
    "  if output_image_height is not None:\n",
    "    output_image_width = int(output_image_height / height * width)\n",
    "    image_from_plot = cv2.resize(\n",
    "        image_from_plot, dsize=(output_image_width, output_image_height),\n",
    "         interpolation=cv2.INTER_CUBIC)\n",
    "  return image_from_plot\n",
    "\n",
    "def to_gif(images, fps):\n",
    "  \"\"\"Converts image sequence (4D numpy array) to gif.\"\"\"\n",
    "  imageio.mimsave('./animation.gif', images, fps=fps)\n",
    "  return embed.embed_file('./animation.gif')\n",
    "\n",
    "def progress(value, max=100):\n",
    "  return HTML(\"\"\"\n",
    "      <progress\n",
    "          value='{value}'\n",
    "          max='{max}',\n",
    "          style='width: 100%'\n",
    "      >\n",
    "          {value}\n",
    "      </progress>\n",
    "  \"\"\".format(value=value, max=max))"
   ]
  },
  {
   "cell_type": "code",
   "execution_count": 3,
   "metadata": {},
   "outputs": [],
   "source": [
    "model_name = \"movenet_thunder\"  #[\"movenet_lightning\", \"movenet_thunder\", \"movenet_lightning.tflite\", \"movenet_thunder.tflite\"]\n",
    "\n",
    "if \"tflite\" in model_name:\n",
    "  if \"movenet_lightning\" in model_name:\n",
    "    !wget -q -O model.tflite https://tfhub.dev/google/lite-model/movenet/singlepose/lightning/3?lite-format=tflite\n",
    "    input_size = 192\n",
    "  elif \"movenet_thunder\" in model_name:\n",
    "    !wget -q -O model.tflite https://tfhub.dev/google/lite-model/movenet/singlepose/thunder/3?lite-format=tflite\n",
    "    input_size = 256\n",
    "  else:\n",
    "    raise ValueError(\"Unsupported model name: %s\" % model_name)\n",
    "\n",
    "  # Initialize the TFLite interpreter\n",
    "  interpreter = tf.lite.Interpreter(model_path=\"model.tflite\")\n",
    "  interpreter.allocate_tensors()\n",
    "\n",
    "  def movenet(input_image):\n",
    "    \"\"\"Runs detection on an input image\"\"\"\n",
    "    # TF Lite format expects tensor type of float32.\n",
    "    input_image = tf.cast(input_image, dtype=tf.float32)\n",
    "    input_details = interpreter.get_input_details()\n",
    "    output_details = interpreter.get_output_details()\n",
    "    interpreter.set_tensor(input_details[0]['index'], input_image.numpy())\n",
    "    # Invoke inference.\n",
    "    interpreter.invoke()\n",
    "    # Get the model prediction.\n",
    "    keypoints_with_scores = interpreter.get_tensor(output_details[0]['index'])\n",
    "    return keypoints_with_scores\n",
    "\n",
    "else:\n",
    "  if \"movenet_lightning\" in model_name:\n",
    "    module = hub.load(\"https://tfhub.dev/google/movenet/singlepose/lightning/3\")\n",
    "    input_size = 192\n",
    "  elif \"movenet_thunder\" in model_name:\n",
    "    module = hub.load(\"https://tfhub.dev/google/movenet/singlepose/thunder/3\")\n",
    "    input_size = 256\n",
    "  else:\n",
    "    raise ValueError(\"Unsupported model name: %s\" % model_name)\n",
    "\n",
    "  def movenet(input_image):\n",
    "    \"\"\"Runs detection on an input image\"\"\"\n",
    "    model = module.signatures['serving_default']\n",
    "\n",
    "    # SavedModel format expects tensor type of int32.\n",
    "    input_image = tf.cast(input_image, dtype=tf.int32)\n",
    "    # Run model inference.\n",
    "    outputs = model(input_image)\n",
    "    # Output is a [1, 1, 17, 3] tensor.\n",
    "    keypoint_with_scores = outputs['output_0'].numpy()\n",
    "    return keypoint_with_scores"
   ]
  },
  {
   "cell_type": "code",
   "execution_count": 4,
   "metadata": {},
   "outputs": [],
   "source": [
    "import os\n",
    "import glob\n",
    "import csv\n",
    "rows=[]\n",
    "files=glob.glob('D:/Task/images/*')"
   ]
  },
  {
   "cell_type": "code",
   "execution_count": 5,
   "metadata": {},
   "outputs": [
    {
     "name": "stdout",
     "output_type": "stream",
     "text": [
      "Done\n",
      "THe numbers of row:  1269\n"
     ]
    }
   ],
   "source": [
    "for i in range(len(files)):\n",
    "    basename = os.path.basename(files[i])\n",
    "    img_path=files[i]\n",
    "    image = tf.io.read_file(img_path)\n",
    "    image = tf.image.decode_jpeg(image)\n",
    "    # Resize and pad the image to keep the aspect ratio and fit the expected size.\n",
    "    input_image = tf.expand_dims(image, axis=0)\n",
    "    input_image = tf.image.resize_with_pad(input_image, input_size, input_size)\n",
    "\n",
    "    # Run model inference.\n",
    "    keypoint_with_scores = movenet(input_image)\n",
    "    with open('D:/Task/labels.csv') as file_obj:\n",
    "        reader_obj = csv.DictReader(file_obj)\n",
    "        for row in reader_obj:\n",
    "            if(row['image_name']==basename):\n",
    "                image_name=row['image_name']\n",
    "                status=row['status']\n",
    "                csv_dict = {'name': image_name, 'status': status, 'keypoints': keypoint_with_scores }\n",
    "                rows.append(csv_dict)\n",
    "    \n",
    "print(\"Done\")\n",
    "print(\"THe numbers of row: \",len(rows))"
   ]
  },
  {
   "cell_type": "code",
   "execution_count": 6,
   "metadata": {},
   "outputs": [],
   "source": [
    "f=open('D:/Task/unbalanced_keypoints.csv', 'w')\n",
    "header = [ 'name', 'status', 'keypoints']\n",
    "\n",
    "\n",
    "csv_writer = csv.DictWriter(f, fieldnames=header)\n",
    "csv_writer.writeheader() # write header\n",
    "csv_writer.writerows(rows)\n",
    "\n",
    "#for remove empty rows\n",
    "df = pd.read_csv('D:/Task/unbalanced_keypoints.csv')\n",
    "df.to_csv('D:/Task/unbalanced_keypoints.csv', index=False)"
   ]
  },
  {
   "cell_type": "markdown",
   "metadata": {},
   "source": [
    "Task 2 "
   ]
  },
  {
   "cell_type": "code",
   "execution_count": 4,
   "metadata": {},
   "outputs": [
    {
     "data": {
      "text/html": [
       "<div>\n",
       "<style scoped>\n",
       "    .dataframe tbody tr th:only-of-type {\n",
       "        vertical-align: middle;\n",
       "    }\n",
       "\n",
       "    .dataframe tbody tr th {\n",
       "        vertical-align: top;\n",
       "    }\n",
       "\n",
       "    .dataframe thead th {\n",
       "        text-align: right;\n",
       "    }\n",
       "</style>\n",
       "<table border=\"1\" class=\"dataframe\">\n",
       "  <thead>\n",
       "    <tr style=\"text-align: right;\">\n",
       "      <th></th>\n",
       "      <th>name</th>\n",
       "      <th>status</th>\n",
       "      <th>keypoints</th>\n",
       "    </tr>\n",
       "  </thead>\n",
       "  <tbody>\n",
       "    <tr>\n",
       "      <th>0</th>\n",
       "      <td>Image_1.jpg</td>\n",
       "      <td>sitting</td>\n",
       "      <td>[[[[0.33364123 0.37497622 0.7457769 ]\\r\\n   [0...</td>\n",
       "    </tr>\n",
       "    <tr>\n",
       "      <th>1</th>\n",
       "      <td>Image_10005.jpg</td>\n",
       "      <td>sitting</td>\n",
       "      <td>[[[[0.21137007 0.30594978 0.3183812 ]\\r\\n   [0...</td>\n",
       "    </tr>\n",
       "    <tr>\n",
       "      <th>2</th>\n",
       "      <td>Image_10012.jpg</td>\n",
       "      <td>sitting</td>\n",
       "      <td>[[[[0.52972406 0.59848297 0.64693785]\\r\\n   [0...</td>\n",
       "    </tr>\n",
       "    <tr>\n",
       "      <th>3</th>\n",
       "      <td>Image_1002.jpg</td>\n",
       "      <td>sleeping</td>\n",
       "      <td>[[[[0.40297922 0.48212966 0.23498732]\\r\\n   [0...</td>\n",
       "    </tr>\n",
       "    <tr>\n",
       "      <th>4</th>\n",
       "      <td>Image_10026.jpg</td>\n",
       "      <td>sitting</td>\n",
       "      <td>[[[[0.33772936 0.5081584  0.91255295]\\r\\n   [0...</td>\n",
       "    </tr>\n",
       "  </tbody>\n",
       "</table>\n",
       "</div>"
      ],
      "text/plain": [
       "              name    status  \\\n",
       "0      Image_1.jpg   sitting   \n",
       "1  Image_10005.jpg   sitting   \n",
       "2  Image_10012.jpg   sitting   \n",
       "3   Image_1002.jpg  sleeping   \n",
       "4  Image_10026.jpg   sitting   \n",
       "\n",
       "                                           keypoints  \n",
       "0  [[[[0.33364123 0.37497622 0.7457769 ]\\r\\n   [0...  \n",
       "1  [[[[0.21137007 0.30594978 0.3183812 ]\\r\\n   [0...  \n",
       "2  [[[[0.52972406 0.59848297 0.64693785]\\r\\n   [0...  \n",
       "3  [[[[0.40297922 0.48212966 0.23498732]\\r\\n   [0...  \n",
       "4  [[[[0.33772936 0.5081584  0.91255295]\\r\\n   [0...  "
      ]
     },
     "execution_count": 4,
     "metadata": {},
     "output_type": "execute_result"
    }
   ],
   "source": [
    "imbalance_dataset = pd.read_csv(r\"D:/Task/unbalanced_keypoints.csv\", encoding = 'latin')\n",
    "imbalance_dataset = imbalance_dataset[[\"name\", \"status\",\"keypoints\"]]\n",
    "imbalance_dataset.head()"
   ]
  },
  {
   "cell_type": "code",
   "execution_count": 5,
   "metadata": {},
   "outputs": [
    {
     "name": "stdout",
     "output_type": "stream",
     "text": [
      "sleeping    700\n",
      "sitting     379\n",
      "running     190\n",
      "Name: status, dtype: int64\n"
     ]
    },
    {
     "data": {
      "text/plain": [
       "<AxesSubplot:ylabel='Type'>"
      ]
     },
     "execution_count": 5,
     "metadata": {},
     "output_type": "execute_result"
    },
    {
     "data": {
      "image/png": "[encoded data removed]",
      "text/plain": [
       "<Figure size 432x288 with 1 Axes>"
      ]
     },
     "metadata": {},
     "output_type": "display_data"
    }
   ],
   "source": [
    "print(imbalance_dataset[\"status\"].value_counts())\n",
    "\n",
    "imbalance_dataset.groupby('status').size().plot(kind='pie',\n",
    "                                       y = \"status\",\n",
    "                                       label = \"Type\",\n",
    "                                       autopct='%1.1f%%')"
   ]
  },
  {
   "cell_type": "code",
   "execution_count": 6,
   "metadata": {},
   "outputs": [
    {
     "name": "stdout",
     "output_type": "stream",
     "text": [
      "(190, 3)\n",
      "(379, 3)\n",
      "(700, 3)\n"
     ]
    }
   ],
   "source": [
    "running = imbalance_dataset[imbalance_dataset[\"status\"] == \"running\"]\n",
    "sitting  = imbalance_dataset[imbalance_dataset[\"status\"] == \"sitting\"]\n",
    "sleeping = imbalance_dataset[imbalance_dataset[\"status\"] == \"sleeping\"]\n",
    "print(running .shape)\n",
    "print(sitting.shape)\n",
    "print(sleeping.shape)"
   ]
  },
  {
   "cell_type": "code",
   "execution_count": 7,
   "metadata": {},
   "outputs": [],
   "source": [
    "from sklearn.feature_extraction.text import TfidfVectorizer\n",
    "tfidf = TfidfVectorizer()\n",
    "X = tfidf.fit_transform(imbalance_dataset ['status'])"
   ]
  },
  {
   "cell_type": "code",
   "execution_count": 8,
   "metadata": {},
   "outputs": [
    {
     "data": {
      "text/html": [
       "<div>\n",
       "<style scoped>\n",
       "    .dataframe tbody tr th:only-of-type {\n",
       "        vertical-align: middle;\n",
       "    }\n",
       "\n",
       "    .dataframe tbody tr th {\n",
       "        vertical-align: top;\n",
       "    }\n",
       "\n",
       "    .dataframe thead th {\n",
       "        text-align: right;\n",
       "    }\n",
       "</style>\n",
       "<table border=\"1\" class=\"dataframe\">\n",
       "  <thead>\n",
       "    <tr style=\"text-align: right;\">\n",
       "      <th></th>\n",
       "      <th>name</th>\n",
       "      <th>status</th>\n",
       "      <th>keypoints</th>\n",
       "    </tr>\n",
       "  </thead>\n",
       "  <tbody>\n",
       "    <tr>\n",
       "      <th>0</th>\n",
       "      <td>Image_1.jpg</td>\n",
       "      <td>1</td>\n",
       "      <td>[[[[0.33364123 0.37497622 0.7457769 ]\\r\\n   [0...</td>\n",
       "    </tr>\n",
       "    <tr>\n",
       "      <th>1</th>\n",
       "      <td>Image_10005.jpg</td>\n",
       "      <td>1</td>\n",
       "      <td>[[[[0.21137007 0.30594978 0.3183812 ]\\r\\n   [0...</td>\n",
       "    </tr>\n",
       "    <tr>\n",
       "      <th>2</th>\n",
       "      <td>Image_10012.jpg</td>\n",
       "      <td>1</td>\n",
       "      <td>[[[[0.52972406 0.59848297 0.64693785]\\r\\n   [0...</td>\n",
       "    </tr>\n",
       "    <tr>\n",
       "      <th>3</th>\n",
       "      <td>Image_1002.jpg</td>\n",
       "      <td>2</td>\n",
       "      <td>[[[[0.40297922 0.48212966 0.23498732]\\r\\n   [0...</td>\n",
       "    </tr>\n",
       "    <tr>\n",
       "      <th>4</th>\n",
       "      <td>Image_10026.jpg</td>\n",
       "      <td>1</td>\n",
       "      <td>[[[[0.33772936 0.5081584  0.91255295]\\r\\n   [0...</td>\n",
       "    </tr>\n",
       "  </tbody>\n",
       "</table>\n",
       "</div>"
      ],
      "text/plain": [
       "              name  status                                          keypoints\n",
       "0      Image_1.jpg       1  [[[[0.33364123 0.37497622 0.7457769 ]\\r\\n   [0...\n",
       "1  Image_10005.jpg       1  [[[[0.21137007 0.30594978 0.3183812 ]\\r\\n   [0...\n",
       "2  Image_10012.jpg       1  [[[[0.52972406 0.59848297 0.64693785]\\r\\n   [0...\n",
       "3   Image_1002.jpg       2  [[[[0.40297922 0.48212966 0.23498732]\\r\\n   [0...\n",
       "4  Image_10026.jpg       1  [[[[0.33772936 0.5081584  0.91255295]\\r\\n   [0..."
      ]
     },
     "execution_count": 8,
     "metadata": {},
     "output_type": "execute_result"
    }
   ],
   "source": [
    "imbalance_dataset['status'] = imbalance_dataset['status'].map({'running': 0, 'sitting': 1, 'sleeping': 2})\n",
    "imbalance_dataset.head()"
   ]
  },
  {
   "cell_type": "code",
   "execution_count": 9,
   "metadata": {},
   "outputs": [],
   "source": [
    "y = imbalance_dataset[['status']]"
   ]
  },
  {
   "cell_type": "code",
   "execution_count": 10,
   "metadata": {},
   "outputs": [],
   "source": [
    "from imblearn.over_sampling import SMOTE\n",
    "\n",
    "su = SMOTE(random_state=40)\n",
    "X_su, y_su = su.fit_resample(X, y)"
   ]
  },
  {
   "cell_type": "code",
   "execution_count": 11,
   "metadata": {},
   "outputs": [
    {
     "name": "stdout",
     "output_type": "stream",
     "text": [
      "1    700\n",
      "2    700\n",
      "0    700\n",
      "Name: status, dtype: int64\n"
     ]
    },
    {
     "data": {
      "text/plain": [
       "<AxesSubplot:ylabel='Type'>"
      ]
     },
     "execution_count": 11,
     "metadata": {},
     "output_type": "execute_result"
    },
    {
     "data": {
      "image/png": "[encoded data removed]",
      "text/plain": [
       "<Figure size 432x288 with 1 Axes>"
      ]
     },
     "metadata": {},
     "output_type": "display_data"
    }
   ],
   "source": [
    "print(y_su[\"status\"].value_counts())\n",
    "\n",
    "y_su.groupby('status').size().plot(kind='pie',\n",
    "                                       y = \"status\",\n",
    "                                       label = \"Type\",\n",
    "                                       autopct='%1.1f%%')\n",
    "                                       "
   ]
  },
  {
   "cell_type": "code",
   "execution_count": 13,
   "metadata": {},
   "outputs": [],
   "source": [
    "y_su.to_csv('D:/Task/balanced_keypoints.csv', index=False)"
   ]
  },
  {
   "cell_type": "code",
   "execution_count": null,
   "metadata": {},
   "outputs": [],
   "source": []
  }
 ],
 "metadata": {
  "kernelspec": {
   "display_name": "Python 3.9.12 ('cvpr')",
   "language": "python",
   "name": "python3"
  },
  "language_info": {
   "codemirror_mode": {
    "name": "ipython",
    "version": 3
   },
   "file_extension": ".py",
   "mimetype": "text/x-python",
   "name": "python",
   "nbconvert_exporter": "python",
   "pygments_lexer": "ipython3",
   "version": "3.9.12"
  },
  "orig_nbformat": 4,
  "vscode": {
   "interpreter": {
    "hash": "9dc5f725cd7f5889945b81734e88e4b4f97963148440b2da945ddef10e9741ef"
   }
  }
 },
 "nbformat": 4,
 "nbformat_minor": 2
}
